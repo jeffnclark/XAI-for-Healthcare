{
 "cells": [
  {
   "cell_type": "markdown",
   "metadata": {},
   "source": [
    "# Imports & Setup"
   ]
  },
  {
   "cell_type": "code",
   "execution_count": 15,
   "metadata": {},
   "outputs": [],
   "source": [
    "import statistics \n",
    "\n",
    "from sklearn import model_selection\n",
    "from sklearn.metrics import roc_auc_score\n",
    "import sklearn\n",
    "import numpy as np\n",
    "import pandas as pd\n",
    "import matplotlib.pyplot as plt\n",
    "from sklearn.ensemble import RandomForestRegressor, RandomForestClassifier\n",
    "\n",
    "from pprint import pprint\n",
    "\n",
    "import fatf\n",
    "import fatf.utils.array.validation as fuav\n",
    "import fatf.transparency.predictions.counterfactuals as fatf_cf\n",
    "import fatf.transparency.predictions.surrogate_explainers as fatf_surrogates\n",
    "import fatf.vis.lime as fatf_vis_lime\n",
    "import fatf.transparency.models.feature_influence as fatf_fi\n",
    "\n",
    "import fatf.vis.feature_influence as fatf_vis_fi\n",
    "\n",
    "import pickle\n",
    "import warnings\n",
    "\n",
    "from typing import Callable, Dict, List, Optional, Set, Tuple, Union\n",
    "\n",
    "warnings.filterwarnings(\"ignore\")\n"
   ]
  },
  {
   "cell_type": "code",
   "execution_count": 3,
   "metadata": {},
   "outputs": [],
   "source": [
    "def load_dataset(dataset_name,\n",
    "                 features,\n",
    "                 scale=True,\n",
    "                 test=True,\n",
    "                 dummy=False):\n",
    "    \"\"\"Load the RFD dataset from the csv file into a dataframe.\n",
    "\n",
    "    Args:\n",
    "        dataset_name (str): dataset name\n",
    "        features (lst): list of features\n",
    "        scale (bool): if to use scaled data (with standard scalar)\n",
    "        test (bool): which split to load, train or test\n",
    "\n",
    "    Returns:\n",
    "        X: features of all instances in a dataframe\n",
    "        y: labels of all instances in a numpy array\n",
    "    \"\"\"\n",
    "    dataset_df = pd.DataFrame()\n",
    "\n",
    "    # load rfd dataset\n",
    "    if dataset_name == \"mimic\":\n",
    "        if scale:\n",
    "            if test == True:\n",
    "                if dummy:\n",
    "                    dataset_file_path = (\n",
    "                        \"data/public/dummy_data.csv\"\n",
    "                    )\n",
    "                else:\n",
    "                    dataset_file_path = (\n",
    "                        \"data/private/combined_test_data_standardscale.csv\"\n",
    "                    )\n",
    "            else:\n",
    "                dataset_file_path = (\n",
    "                    \"data/private/combined_training_data_standardscale.csv\"\n",
    "                )\n",
    "        else:\n",
    "            if test == True:\n",
    "                dataset_file_path = (\"rfd_model/combined_test_data.csv\")\n",
    "            else:\n",
    "                dataset_file_path = (\n",
    "                    \"rfd_model/combined_training_data.csv\")\n",
    "        dataset_df = pd.read_csv(dataset_file_path,\n",
    "                                 # header=0,\n",
    "                                 engine=\"python\")\n",
    "\n",
    "        # deal with airway and sex not being binary, even though they should?\n",
    "\n",
    "    X = dataset_df[features]\n",
    "    y = dataset_df['outcome']\n",
    "\n",
    "    return X, y\n",
    "\n",
    "def inverse_scaling(data, features):\n",
    "    '''\n",
    "    Get feature values back to their original unscaled values\n",
    "\n",
    "    Args:\n",
    "        data (dataframe): one row per set of readings\n",
    "        features (list): the complete set of features, not to be modified\n",
    "\n",
    "    Returns:\n",
    "        Dataframe of the unscaled readings\n",
    "\n",
    "    '''\n",
    "    with open('data/private/standard_scaler.pkl', 'rb') as file:\n",
    "        scaler = pickle.load(file)\n",
    "\n",
    "    inversed = pd.DataFrame(scaler.inverse_transform(data), columns=features)\n",
    "\n",
    "    return inversed\n",
    "\n",
    "def sample_uncertainty(sample_cases):\n",
    "    # for given case(s), calculate mean and sd of model predictions\n",
    "    means = []\n",
    "    stds = [] # standard deviations\n",
    "    for i in range(num_samples):\n",
    "        probs = []\n",
    "        probs.append(rf_1.predict_proba(sample_case.to_numpy())[i, 1])\n",
    "        probs.append(rf_2.predict_proba(sample_case.to_numpy())[i, 1])\n",
    "        probs.append(rf_3.predict_proba(sample_case.to_numpy())[i, 1])\n",
    "        probs.append(rf_4.predict_proba(sample_case.to_numpy())[i, 1])\n",
    "        probs.append(rf_5.predict_proba(sample_case.to_numpy())[i, 1])\n",
    "        means.append(statistics.mean(probs))\n",
    "        stds.append(statistics.pstdev(probs))\n",
    "    return means, stds\n",
    "\n",
    "def textualise_counterfactuals(\n",
    "        instance: Union[np.ndarray, np.void],\n",
    "        counterfactuals: np.ndarray,\n",
    "        instance_class: Optional[Union[int, str]] = None,\n",
    "        counterfactuals_distances: Optional[np.ndarray] = None,\n",
    "        counterfactuals_predictions: Optional[np.ndarray] = None,\n",
    "        unscale: Optional[bool] = False,\n",
    "        fractional_difference: Optional[float] = None) ->str:\n",
    "    \"\"\"\n",
    "    Translates a counterfactuals array into a textual description.\n",
    "\n",
    "    Parameters\n",
    "    ----------\n",
    "    instance : numpy.ndarray or numpy.void\n",
    "        A 1-dimensional numpy array representing a data point for which\n",
    "        counterfactuals were calculated.\n",
    "    counterfactuals : numpy.ndarray\n",
    "        A 2-dimensional numpy array with the counterfactual data points.\n",
    "    instance_class : string or integer, optional (default=None)\n",
    "        The class of the input ``instance``.\n",
    "    counterfactuals_distances : numpy.ndarray, optional (default=None)\n",
    "        A 1-dimensional numpy array with distances from the input ``instance``\n",
    "        to every counterfactual data point.\n",
    "    counterfactuals_predictions : numpy.ndarray, optional (default=None)\n",
    "        A 1-dimensional numpy array with predictions for every counterfactual\n",
    "        data point.\n",
    "\n",
    "    Raises\n",
    "    ------\n",
    "    IncorrectShapeError\n",
    "        ``instance`` is not a 1-dimensional numpy array or any of\n",
    "        ``counterfactuals``, ``counterfactuals_distances`` or\n",
    "        ``counterfactuals_predictions`` is not a 2-dimensional numpy array.\n",
    "    IndexError\n",
    "        The ``counterfactuals`` and the ``instance`` column indices disagree.\n",
    "    TypeError\n",
    "        The ``instance_class`` parameter is neither an integer nor a string.\n",
    "        The types of the ``instance`` and the ``counterfactuals`` arrays are\n",
    "        different.\n",
    "    ValueError\n",
    "        The ``instance`` is not of a base type (strings and/or numbers);\n",
    "        the ``counterfactuals`` is not of a base type; the\n",
    "        ``counterfactuals_distances`` is not a purely numerical array; or\n",
    "        ``counterfactuals_predictions`` is not a base array. Either the length\n",
    "        of the ``counterfactuals_distances`` array or of the\n",
    "        ``counterfactuals_predictions`` array is not the same as the number of\n",
    "        rows in the ``counterfactuals`` array. The type of the\n",
    "        ``instance_class`` is different than the type of the\n",
    "        ``counterfactuals_predictions`` array.\n",
    "\n",
    "    Returns\n",
    "    -------\n",
    "    textualisation : string\n",
    "        A string representation of the ``counterfactuals``.\n",
    "    \"\"\"\n",
    "    # pylint: disable=too-many-branches,too-many-statements,too-many-locals\n",
    "\n",
    "    if not fuav.is_1d_like(instance):\n",
    "        raise IncorrectShapeError('The instance has to be a 1-dimensional '\n",
    "                                  'numpy array.')\n",
    "    instance_2d = np.array([instance])\n",
    "    if not fuav.is_base_array(instance_2d):\n",
    "        raise ValueError('The instance has to be of a base type (strings '\n",
    "                         'and/or numbers).')\n",
    "    #\n",
    "    if not fuav.is_2d_array(counterfactuals):\n",
    "        raise IncorrectShapeError('The counterfactuals array should be a '\n",
    "                                  '2-dimensional numpy array.')\n",
    "    if not fuav.is_base_array(counterfactuals):\n",
    "        raise ValueError('The counterfactuals array has to be of a base type '\n",
    "                         '(strings and/or numbers).')\n",
    "    #\n",
    "    if not fuav.are_similar_dtype_arrays(instance_2d, counterfactuals):\n",
    "        raise TypeError('The type of the instance and the counterfactuals '\n",
    "                        'arrays do not agree.')\n",
    "    # These have to be valid indices for the instance\n",
    "    if not fuav.is_structured_array(counterfactuals):\n",
    "        if counterfactuals.shape[1] != instance.shape[0]:\n",
    "            raise IndexError('The counterfactuals and instance column indices '\n",
    "                             'do not agree. (The two arrays have different '\n",
    "                             'number of columns.)')\n",
    "    #\n",
    "    if instance_class is not None:\n",
    "        if not isinstance(instance_class, (int, str, np.int32, np.int64)):\n",
    "            raise TypeError('The instance_class has to be either an integer '\n",
    "                            'or a string.')\n",
    "    #\n",
    "    if counterfactuals_distances is not None:\n",
    "        if not fuav.is_1d_array(counterfactuals_distances):\n",
    "            raise IncorrectShapeError('The counterfactuals_distances array '\n",
    "                                      'should be a 1-dimensional array.')\n",
    "        if not fuav.is_numerical_array(counterfactuals_distances):\n",
    "            raise ValueError('The counterfactuals_distances array should be '\n",
    "                             'purely numerical.')\n",
    "        if counterfactuals.shape[0] != counterfactuals_distances.shape[0]:\n",
    "            raise ValueError('The counterfactuals_distances array should be '\n",
    "                             'of the same length as the number of rows in the '\n",
    "                             'counterfactuals array.')\n",
    "    #\n",
    "    if counterfactuals_predictions is not None:\n",
    "        if not fuav.is_1d_array(counterfactuals_predictions):\n",
    "            raise IncorrectShapeError('The counterfactuals_predictions array '\n",
    "                                      'should be a 1-dimensional array.')\n",
    "        if not fuav.is_base_array(counterfactuals_predictions):\n",
    "            raise ValueError('The counterfactuals_predictions array should be '\n",
    "                             'of a base type (numbers and/or strings).')\n",
    "        if counterfactuals.shape[0] != counterfactuals_predictions.shape[0]:\n",
    "            raise ValueError('The counterfactuals_predictions array should be '\n",
    "                             'of the same length as the number of rows in the '\n",
    "                             'counterfactuals array.')\n",
    "        if instance_class is not None:\n",
    "            if not fuav.are_similar_dtype_arrays(\n",
    "                    np.array([instance_class]), counterfactuals_predictions):\n",
    "                raise ValueError('The type of the instance_class is different '\n",
    "                                 'than the type of the '\n",
    "                                 'counterfactuals_predictions array.')\n",
    "\n",
    "    # Sort the counterfactuals in case they are not sorted\n",
    "    if counterfactuals_distances is not None:\n",
    "        ordering = np.argsort(counterfactuals_distances)\n",
    "        counterfactuals = counterfactuals[ordering]\n",
    "        counterfactuals_distances = counterfactuals_distances[ordering]\n",
    "        if counterfactuals_predictions is not None:\n",
    "            counterfactuals_predictions = counterfactuals_predictions[ordering]\n",
    "\n",
    "    \n",
    "    # Get feature names\n",
    "    if fuav.is_structured_array(counterfactuals):\n",
    "        feature_names = counterfactuals.dtype.names\n",
    "    else:\n",
    "        feature_names = list(range(counterfactuals.shape[1]))\n",
    "\n",
    "    if instance_class is None:\n",
    "        instance_class_str = ''\n",
    "    else:\n",
    "        instance_class_str = ' of class *{}*'.format(class_names[instance_class])\n",
    "    output = ['Instance{}:'.format(instance_class_str),\n",
    "              '{}\\n'.format(instance),\n",
    "              #'Feature names: {}\\n'.format(feature_names)\n",
    "              ]  # yapf: disable\n",
    "    \n",
    "    cf_template = '    feature *{}*: *{}* -> *{}*'\n",
    "\n",
    "    if unscale:\n",
    "        instance = inverse_scaling(instance.reshape(1, -1), features).to_numpy()[0]\n",
    "\n",
    "\n",
    "    for i in range(counterfactuals.shape[0]):\n",
    "\n",
    "        # Inverse scaling if required\n",
    "\n",
    "        if unscale:\n",
    "            counterfactuals[i] = inverse_scaling(counterfactuals[i].reshape(1, -1), features).to_numpy()[0]\n",
    "\n",
    "        if counterfactuals_predictions is None:\n",
    "            cf_instance_class_str = ''\n",
    "        else:\n",
    "            cf_instance_class_str = ' of class *{}*'.format(\n",
    "                class_names[counterfactuals_predictions[i]])\n",
    "\n",
    "        output.append(\n",
    "            'Counterfactual instance{}:'.format(cf_instance_class_str))\n",
    "\n",
    "        if counterfactuals_distances is not None:\n",
    "            output.append('Distance: {}'.format(counterfactuals_distances[i]))\n",
    "\n",
    "        for feature_name in feature_names:\n",
    "            i_val = instance[feature_name]\n",
    "            c_val = counterfactuals[i][feature_name]\n",
    "        \n",
    "            if fractional_difference:\n",
    "                if abs((i_val-c_val)/i_val) > fractional_difference:\n",
    "                    output.append(cf_template.format(features[feature_name], i_val, c_val))\n",
    "            else:\n",
    "                if i_val != c_val:\n",
    "                    output.append(cf_template.format(features[feature_name], i_val, c_val))\n",
    "        output[-1] += '\\n'\n",
    "\n",
    "    # Remove the trailing new-line\n",
    "    if output[-1][-1] == '\\n':\n",
    "        output[-1] = output[-1][:-1]\n",
    "\n",
    "    textualisation = '\\n'.join(output)\n",
    "    return textualisation\n"
   ]
  },
  {
   "cell_type": "code",
   "execution_count": 4,
   "metadata": {},
   "outputs": [
    {
     "name": "stderr",
     "output_type": "stream",
     "text": [
      "24-Aug-05 13:02:19 fatf         INFO     Seeding RNGs using the input parameter.\n",
      "24-Aug-05 13:02:19 fatf         INFO     Seeding RNGs with 42.\n"
     ]
    }
   ],
   "source": [
    "scale = True\n",
    "num_samples = 1\n",
    "fatf.setup_random_seed(42)\n",
    "seed = 42\n"
   ]
  },
  {
   "cell_type": "code",
   "execution_count": 5,
   "metadata": {},
   "outputs": [],
   "source": [
    "class_names = {0: 'NRFD', 1: 'RFD'}"
   ]
  },
  {
   "cell_type": "code",
   "execution_count": 6,
   "metadata": {},
   "outputs": [],
   "source": [
    "features = ['airway', 'fio2', 'spo2_min',\n",
    "            'hco3', 'resp_min', 'resp_max',\n",
    "            'bp_min', 'hr_min', 'hr_max', 'pain',\n",
    "            'gcs_min', 'temp_min', 'temp_max',\n",
    "            'haemoglobin', 'k', 'na', 'creatinine', 'bun',\n",
    "            'bmi', 'los', 'age', 'sex'\n",
    "            ]"
   ]
  },
  {
   "cell_type": "code",
   "execution_count": 7,
   "metadata": {},
   "outputs": [],
   "source": [
    "# import rfd testset data\n",
    "X_train, y_train = load_dataset('mimic',\n",
    "                                features,\n",
    "                                scale=scale,\n",
    "                                test=False\n",
    "                                )\n",
    "X_test, y_test = load_dataset('mimic',\n",
    "                              features,\n",
    "                              scale=scale\n",
    "                              )"
   ]
  },
  {
   "cell_type": "code",
   "execution_count": 8,
   "metadata": {},
   "outputs": [],
   "source": [
    "X_test_dummy, y_test_dummy = load_dataset('mimic',\n",
    "                              features,\n",
    "                              scale=scale,\n",
    "                              dummy=True\n",
    "                              )"
   ]
  },
  {
   "cell_type": "code",
   "execution_count": 9,
   "metadata": {},
   "outputs": [
    {
     "data": {
      "text/html": [
       "<div>\n",
       "<style scoped>\n",
       "    .dataframe tbody tr th:only-of-type {\n",
       "        vertical-align: middle;\n",
       "    }\n",
       "\n",
       "    .dataframe tbody tr th {\n",
       "        vertical-align: top;\n",
       "    }\n",
       "\n",
       "    .dataframe thead th {\n",
       "        text-align: right;\n",
       "    }\n",
       "</style>\n",
       "<table border=\"1\" class=\"dataframe\">\n",
       "  <thead>\n",
       "    <tr style=\"text-align: right;\">\n",
       "      <th></th>\n",
       "      <th>airway</th>\n",
       "      <th>fio2</th>\n",
       "      <th>spo2_min</th>\n",
       "      <th>hco3</th>\n",
       "      <th>resp_min</th>\n",
       "      <th>resp_max</th>\n",
       "      <th>bp_min</th>\n",
       "      <th>hr_min</th>\n",
       "      <th>hr_max</th>\n",
       "      <th>pain</th>\n",
       "      <th>...</th>\n",
       "      <th>temp_max</th>\n",
       "      <th>haemoglobin</th>\n",
       "      <th>k</th>\n",
       "      <th>na</th>\n",
       "      <th>creatinine</th>\n",
       "      <th>bun</th>\n",
       "      <th>bmi</th>\n",
       "      <th>los</th>\n",
       "      <th>age</th>\n",
       "      <th>sex</th>\n",
       "    </tr>\n",
       "  </thead>\n",
       "  <tbody>\n",
       "    <tr>\n",
       "      <th>0</th>\n",
       "      <td>1.756151</td>\n",
       "      <td>0.575756</td>\n",
       "      <td>-0.026491</td>\n",
       "      <td>0.692595</td>\n",
       "      <td>-2.480842</td>\n",
       "      <td>0.321948</td>\n",
       "      <td>-0.544739</td>\n",
       "      <td>0.304917</td>\n",
       "      <td>0.523052</td>\n",
       "      <td>-0.604484</td>\n",
       "      <td>...</td>\n",
       "      <td>0.669076</td>\n",
       "      <td>-0.403741</td>\n",
       "      <td>-1.359243</td>\n",
       "      <td>-1.334461</td>\n",
       "      <td>-0.706398</td>\n",
       "      <td>-0.813236</td>\n",
       "      <td>0.020714</td>\n",
       "      <td>0.120239</td>\n",
       "      <td>-0.492656</td>\n",
       "      <td>1.088614</td>\n",
       "    </tr>\n",
       "    <tr>\n",
       "      <th>1</th>\n",
       "      <td>-0.569427</td>\n",
       "      <td>-0.088629</td>\n",
       "      <td>-0.879925</td>\n",
       "      <td>0.482812</td>\n",
       "      <td>-1.673118</td>\n",
       "      <td>-1.667486</td>\n",
       "      <td>-0.683734</td>\n",
       "      <td>-0.597086</td>\n",
       "      <td>-0.861744</td>\n",
       "      <td>-0.604484</td>\n",
       "      <td>...</td>\n",
       "      <td>-0.358890</td>\n",
       "      <td>-0.406778</td>\n",
       "      <td>0.096425</td>\n",
       "      <td>-0.294487</td>\n",
       "      <td>1.000850</td>\n",
       "      <td>1.496098</td>\n",
       "      <td>-0.023504</td>\n",
       "      <td>-0.506162</td>\n",
       "      <td>-0.268506</td>\n",
       "      <td>-0.918599</td>\n",
       "    </tr>\n",
       "    <tr>\n",
       "      <th>2</th>\n",
       "      <td>-0.569427</td>\n",
       "      <td>0.132833</td>\n",
       "      <td>0.257987</td>\n",
       "      <td>0.902378</td>\n",
       "      <td>1.073142</td>\n",
       "      <td>0.653521</td>\n",
       "      <td>1.169535</td>\n",
       "      <td>1.142492</td>\n",
       "      <td>0.811551</td>\n",
       "      <td>-0.180324</td>\n",
       "      <td>...</td>\n",
       "      <td>0.273803</td>\n",
       "      <td>-0.379450</td>\n",
       "      <td>1.734052</td>\n",
       "      <td>0.121503</td>\n",
       "      <td>4.349681</td>\n",
       "      <td>1.159320</td>\n",
       "      <td>0.039715</td>\n",
       "      <td>-0.264253</td>\n",
       "      <td>-0.328110</td>\n",
       "      <td>1.088614</td>\n",
       "    </tr>\n",
       "    <tr>\n",
       "      <th>3</th>\n",
       "      <td>-0.569427</td>\n",
       "      <td>0.132833</td>\n",
       "      <td>0.542465</td>\n",
       "      <td>0.063247</td>\n",
       "      <td>0.588508</td>\n",
       "      <td>-0.506983</td>\n",
       "      <td>0.891544</td>\n",
       "      <td>-1.499089</td>\n",
       "      <td>-1.842641</td>\n",
       "      <td>-0.604484</td>\n",
       "      <td>...</td>\n",
       "      <td>-1.782272</td>\n",
       "      <td>-0.412851</td>\n",
       "      <td>-1.177284</td>\n",
       "      <td>0.537493</td>\n",
       "      <td>-0.509408</td>\n",
       "      <td>-0.091569</td>\n",
       "      <td>-0.088882</td>\n",
       "      <td>-0.065257</td>\n",
       "      <td>0.375843</td>\n",
       "      <td>-0.918599</td>\n",
       "    </tr>\n",
       "    <tr>\n",
       "      <th>4</th>\n",
       "      <td>1.756151</td>\n",
       "      <td>-0.531552</td>\n",
       "      <td>1.111420</td>\n",
       "      <td>-0.775883</td>\n",
       "      <td>-1.026939</td>\n",
       "      <td>-0.838555</td>\n",
       "      <td>0.984208</td>\n",
       "      <td>-1.112516</td>\n",
       "      <td>-1.265643</td>\n",
       "      <td>-0.604484</td>\n",
       "      <td>...</td>\n",
       "      <td>0.431940</td>\n",
       "      <td>-0.367304</td>\n",
       "      <td>-0.995326</td>\n",
       "      <td>-0.294487</td>\n",
       "      <td>-0.312417</td>\n",
       "      <td>-0.139680</td>\n",
       "      <td>-0.006306</td>\n",
       "      <td>-0.108562</td>\n",
       "      <td>0.214262</td>\n",
       "      <td>-0.918599</td>\n",
       "    </tr>\n",
       "  </tbody>\n",
       "</table>\n",
       "<p>5 rows × 22 columns</p>\n",
       "</div>"
      ],
      "text/plain": [
       "     airway      fio2  spo2_min      hco3  resp_min  resp_max    bp_min  \\\n",
       "0  1.756151  0.575756 -0.026491  0.692595 -2.480842  0.321948 -0.544739   \n",
       "1 -0.569427 -0.088629 -0.879925  0.482812 -1.673118 -1.667486 -0.683734   \n",
       "2 -0.569427  0.132833  0.257987  0.902378  1.073142  0.653521  1.169535   \n",
       "3 -0.569427  0.132833  0.542465  0.063247  0.588508 -0.506983  0.891544   \n",
       "4  1.756151 -0.531552  1.111420 -0.775883 -1.026939 -0.838555  0.984208   \n",
       "\n",
       "     hr_min    hr_max      pain  ...  temp_max  haemoglobin         k  \\\n",
       "0  0.304917  0.523052 -0.604484  ...  0.669076    -0.403741 -1.359243   \n",
       "1 -0.597086 -0.861744 -0.604484  ... -0.358890    -0.406778  0.096425   \n",
       "2  1.142492  0.811551 -0.180324  ...  0.273803    -0.379450  1.734052   \n",
       "3 -1.499089 -1.842641 -0.604484  ... -1.782272    -0.412851 -1.177284   \n",
       "4 -1.112516 -1.265643 -0.604484  ...  0.431940    -0.367304 -0.995326   \n",
       "\n",
       "         na  creatinine       bun       bmi       los       age       sex  \n",
       "0 -1.334461   -0.706398 -0.813236  0.020714  0.120239 -0.492656  1.088614  \n",
       "1 -0.294487    1.000850  1.496098 -0.023504 -0.506162 -0.268506 -0.918599  \n",
       "2  0.121503    4.349681  1.159320  0.039715 -0.264253 -0.328110  1.088614  \n",
       "3  0.537493   -0.509408 -0.091569 -0.088882 -0.065257  0.375843 -0.918599  \n",
       "4 -0.294487   -0.312417 -0.139680 -0.006306 -0.108562  0.214262 -0.918599  \n",
       "\n",
       "[5 rows x 22 columns]"
      ]
     },
     "execution_count": 9,
     "metadata": {},
     "output_type": "execute_result"
    }
   ],
   "source": [
    "X_test_dummy"
   ]
  },
  {
   "cell_type": "code",
   "execution_count": 10,
   "metadata": {},
   "outputs": [
    {
     "name": "stdout",
     "output_type": "stream",
     "text": [
      "Test set AUC performance 0.882\n",
      "Dummy test set AUC performance 1.000\n"
     ]
    }
   ],
   "source": [
    "# Load trained random forest model\n",
    "if scale:\n",
    "    model = pickle.load(open('models/private/rfd_model_combined_standardscale.pickle', 'rb'))\n",
    "else:\n",
    "    model = pickle.load(open('models/private/rf.pickle', 'rb'))\n",
    "\n",
    "result = roc_auc_score(\n",
    "    y_test, model.predict_proba(X_test.to_numpy())[:, 1])\n",
    "print(f'Test set AUC performance {result:.3f}')\n",
    "result_dummy = roc_auc_score(\n",
    "    y_test_dummy, model.predict_proba(X_test_dummy.to_numpy())[:, 1])\n",
    "print(f'Dummy test set AUC performance {result_dummy:.3f}')"
   ]
  },
  {
   "cell_type": "markdown",
   "metadata": {},
   "source": [
    "# Sample cases"
   ]
  },
  {
   "cell_type": "markdown",
   "metadata": {},
   "source": [
    "For now everything below will be a sample case from the dummy file"
   ]
  },
  {
   "cell_type": "code",
   "execution_count": 11,
   "metadata": {},
   "outputs": [],
   "source": [
    "sample_case = X_test_dummy.sample(n=num_samples, random_state=seed)\n",
    "sample_case_outcome = y_test_dummy.sample(n=num_samples, random_state=seed)"
   ]
  },
  {
   "cell_type": "code",
   "execution_count": 80,
   "metadata": {},
   "outputs": [
    {
     "data": {
      "text/plain": [
       "array([0.49531122])"
      ]
     },
     "execution_count": 80,
     "metadata": {},
     "output_type": "execute_result"
    }
   ],
   "source": [
    "# Generate RFD prediction for sample case(s)\n",
    "# 0 = not ready for discharge, 1 = ready for discharge, 0.5 = decision threshold\n",
    "model.predict_proba(sample_case.to_numpy())[:, 1]"
   ]
  },
  {
   "cell_type": "markdown",
   "metadata": {},
   "source": [
    "# Counterfactuals"
   ]
  },
  {
   "cell_type": "code",
   "execution_count": 81,
   "metadata": {},
   "outputs": [],
   "source": [
    "cf_explainer = fatf_cf.CounterfactualExplainer(\n",
    "    model=model,\n",
    "    dataset=X_train.to_numpy(),\n",
    "    categorical_indices=[],\n",
    "    default_numerical_step_size=0.1)"
   ]
  },
  {
   "cell_type": "code",
   "execution_count": 74,
   "metadata": {},
   "outputs": [],
   "source": [
    "# Get a Counterfactual Explanation tuple for this data point\n",
    "dp_1_cf_tuple = cf_explainer.explain_instance(sample_case.to_numpy()[0])\n",
    "\n",
    "# Only use the requested number of counterfactuals (with shortest distance)\n",
    "num_cfs = 3\n",
    "dp_1_cf_tuple = tuple(arr[:num_cfs] for arr in dp_1_cf_tuple)\n",
    "\n",
    "dp_1_cfs, dp_1_cfs_distances, dp_1_cfs_predictions = dp_1_cf_tuple\n",
    "dp_1_cfs_predictions_names = np.array(\n",
    "    [class_names[i] for i in dp_1_cfs_predictions])\n",
    "\n"
   ]
  },
  {
   "cell_type": "code",
   "execution_count": 75,
   "metadata": {},
   "outputs": [
    {
     "name": "stdout",
     "output_type": "stream",
     "text": [
      "\n",
      "Counterfactuals for the data point:\n",
      "array([[-0.56942718, -0.08862862, -0.87992482,  0.48281246, -1.67311802,\n",
      "        -1.66748575, -0.68373439, -0.59708594, -0.86174412, -0.60448357,\n",
      "         0.36586264, -0.23415682, -0.35889024, -0.40677781,  0.09642508,\n",
      "        -0.29448665,  1.00084975,  1.49609809, -0.02350413, -0.54811423,\n",
      "        -0.2685055 , -0.91859914],\n",
      "       [-0.56942718, -0.08862862, -0.87992482,  0.48281246, -1.67311802,\n",
      "        -1.66748575, -0.68373439, -0.59708594, -0.86174412, -0.60448357,\n",
      "         0.36586264, -0.23415682, -0.35889024, -0.40677781,  0.09642508,\n",
      "        -0.29448665,  1.00084975,  1.49609809, -0.02350413, -0.54811423,\n",
      "        -0.2685055 , -0.91859914],\n",
      "       [-0.56942718, -0.08862862, -0.87992482,  0.48281246, -1.67311802,\n",
      "        -1.66748575, -0.68373439, -0.59708594, -0.86174412, -0.60448357,\n",
      "         0.36586264, -0.23415682, -0.35889024, -0.40677781,  0.09642508,\n",
      "        -0.29778299,  1.00084975,  1.49609809, -0.02350413, -0.54811423,\n",
      "        -0.2685055 , -0.91859914]])\n",
      "\n",
      "Distances between the counterfactuals and the data point:\n",
      "array([0.0419525 , 0.0419525 , 0.04524884])\n",
      "\n",
      "Classes (indices and class names) of the counterfactuals:\n",
      "array([1, 1, 1])\n",
      "array(['RFD', 'RFD', 'RFD'], dtype='<U3')\n"
     ]
    }
   ],
   "source": [
    "print('\\nCounterfactuals for the data point:')\n",
    "pprint(dp_1_cfs)\n",
    "print('\\nDistances between the counterfactuals and the data point:')\n",
    "pprint(dp_1_cfs_distances)\n",
    "print('\\nClasses (indices and class names) of the counterfactuals:')\n",
    "pprint(dp_1_cfs_predictions)\n",
    "pprint(dp_1_cfs_predictions_names)"
   ]
  },
  {
   "cell_type": "code",
   "execution_count": 85,
   "metadata": {},
   "outputs": [
    {
     "data": {
      "text/html": [
       "<div>\n",
       "<style scoped>\n",
       "    .dataframe tbody tr th:only-of-type {\n",
       "        vertical-align: middle;\n",
       "    }\n",
       "\n",
       "    .dataframe tbody tr th {\n",
       "        vertical-align: top;\n",
       "    }\n",
       "\n",
       "    .dataframe thead th {\n",
       "        text-align: right;\n",
       "    }\n",
       "</style>\n",
       "<table border=\"1\" class=\"dataframe\">\n",
       "  <thead>\n",
       "    <tr style=\"text-align: right;\">\n",
       "      <th></th>\n",
       "      <th>airway</th>\n",
       "      <th>fio2</th>\n",
       "      <th>spo2_min</th>\n",
       "      <th>hco3</th>\n",
       "      <th>resp_min</th>\n",
       "      <th>resp_max</th>\n",
       "      <th>bp_min</th>\n",
       "      <th>hr_min</th>\n",
       "      <th>hr_max</th>\n",
       "      <th>pain</th>\n",
       "      <th>...</th>\n",
       "      <th>temp_max</th>\n",
       "      <th>haemoglobin</th>\n",
       "      <th>k</th>\n",
       "      <th>na</th>\n",
       "      <th>creatinine</th>\n",
       "      <th>bun</th>\n",
       "      <th>bmi</th>\n",
       "      <th>los</th>\n",
       "      <th>age</th>\n",
       "      <th>sex</th>\n",
       "    </tr>\n",
       "  </thead>\n",
       "  <tbody>\n",
       "    <tr>\n",
       "      <th>1</th>\n",
       "      <td>-0.569427</td>\n",
       "      <td>-0.088629</td>\n",
       "      <td>-0.879925</td>\n",
       "      <td>0.482812</td>\n",
       "      <td>-1.673118</td>\n",
       "      <td>-1.667486</td>\n",
       "      <td>-0.683734</td>\n",
       "      <td>-0.597086</td>\n",
       "      <td>-0.861744</td>\n",
       "      <td>-0.604484</td>\n",
       "      <td>...</td>\n",
       "      <td>-0.35889</td>\n",
       "      <td>-0.406778</td>\n",
       "      <td>0.096425</td>\n",
       "      <td>-0.294487</td>\n",
       "      <td>1.00085</td>\n",
       "      <td>1.496098</td>\n",
       "      <td>-0.023504</td>\n",
       "      <td>-0.506162</td>\n",
       "      <td>-0.268506</td>\n",
       "      <td>-0.918599</td>\n",
       "    </tr>\n",
       "  </tbody>\n",
       "</table>\n",
       "<p>1 rows × 22 columns</p>\n",
       "</div>"
      ],
      "text/plain": [
       "     airway      fio2  spo2_min      hco3  resp_min  resp_max    bp_min  \\\n",
       "1 -0.569427 -0.088629 -0.879925  0.482812 -1.673118 -1.667486 -0.683734   \n",
       "\n",
       "     hr_min    hr_max      pain  ...  temp_max  haemoglobin         k  \\\n",
       "1 -0.597086 -0.861744 -0.604484  ...  -0.35889    -0.406778  0.096425   \n",
       "\n",
       "         na  creatinine       bun       bmi       los       age       sex  \n",
       "1 -0.294487     1.00085  1.496098 -0.023504 -0.506162 -0.268506 -0.918599  \n",
       "\n",
       "[1 rows x 22 columns]"
      ]
     },
     "execution_count": 85,
     "metadata": {},
     "output_type": "execute_result"
    }
   ],
   "source": [
    "sample_case"
   ]
  },
  {
   "cell_type": "code",
   "execution_count": 84,
   "metadata": {},
   "outputs": [
    {
     "name": "stdout",
     "output_type": "stream",
     "text": [
      "Instance of class *RFD*:\n",
      "[-0.56942718 -0.08862862 -0.87992482  0.48281246 -1.67311802 -1.66748575\n",
      " -0.68373439 -0.59708594 -0.86174412 -0.60448357  0.36586264 -0.23415682\n",
      " -0.35889024 -0.40677781  0.09642508 -0.29448665  1.00084975  1.49609809\n",
      " -0.02350413 -0.50616173 -0.2685055  -0.91859914]\n",
      "\n",
      "Counterfactual instance of class *RFD*:\n",
      "Distance: 0.041952503789225215\n",
      "    feature *los*: *38.085600000000014* -> *32.179348527323995*\n",
      "\n",
      "Counterfactual instance of class *RFD*:\n",
      "Distance: 0.04195250378922566\n",
      "    feature *airway*: *2.498001805406602e-16* -> *5.551115123125783e-17*\n",
      "    feature *los*: *38.085600000000014* -> *32.179348527323995*\n",
      "\n",
      "Counterfactual instance of class *RFD*:\n",
      "Distance: 0.04524884087737885\n",
      "    feature *los*: *38.085600000000014* -> *32.179348527323995*\n"
     ]
    }
   ],
   "source": [
    "# Textualise the counterfactuals\n",
    "dp_1_cfs_text = textualise_counterfactuals(\n",
    "    sample_case.to_numpy()[0],\n",
    "    dp_1_cfs,\n",
    "    instance_class=sample_case_outcome.to_numpy()[0],\n",
    "    counterfactuals_distances=dp_1_cfs_distances,\n",
    "    counterfactuals_predictions=dp_1_cfs_predictions,\n",
    "    unscale = True,\n",
    "    fractional_difference=0.001) # i.e. must be at least 0.1% different\n",
    "print(dp_1_cfs_text)"
   ]
  },
  {
   "cell_type": "markdown",
   "metadata": {},
   "source": [
    "# Surrogate tree explainer"
   ]
  },
  {
   "cell_type": "code",
   "execution_count": 86,
   "metadata": {},
   "outputs": [],
   "source": [
    "# Create a LIME explainer\n",
    "tree = fatf_surrogates.TabularBlimeyTree(\n",
    "    X_train.to_numpy(),\n",
    "    model,\n",
    "    feature_names=features,\n",
    "    class_names=list(class_names.values()))"
   ]
  },
  {
   "cell_type": "code",
   "execution_count": 87,
   "metadata": {},
   "outputs": [
    {
     "name": "stdout",
     "output_type": "stream",
     "text": [
      "--- Instance 0 ---\n",
      "{'NRFD': {'age': 0.0,\n",
      "          'airway': 0.056617833460483616,\n",
      "          'bmi': 0.0,\n",
      "          'bp_min': 0.0,\n",
      "          'bun': 0.0,\n",
      "          'creatinine': 0.0,\n",
      "          'fio2': 0.0,\n",
      "          'gcs_min': 0.7651410099124144,\n",
      "          'haemoglobin': 0.0,\n",
      "          'hco3': 0.0,\n",
      "          'hr_max': 0.0,\n",
      "          'hr_min': 0.009528978812385458,\n",
      "          'k': 0.0,\n",
      "          'los': 0.1687121778147164,\n",
      "          'na': 0.0,\n",
      "          'pain': 0.0,\n",
      "          'resp_max': 0.0,\n",
      "          'resp_min': 0.0,\n",
      "          'sex': 0.0,\n",
      "          'spo2_min': 0.0,\n",
      "          'temp_max': 0.0,\n",
      "          'temp_min': 0.0},\n",
      " 'RFD': {'age': 0.0,\n",
      "         'airway': 0.05661783346047686,\n",
      "         'bmi': 0.0,\n",
      "         'bp_min': 0.0,\n",
      "         'bun': 0.0,\n",
      "         'creatinine': 0.0,\n",
      "         'fio2': 0.0,\n",
      "         'gcs_min': 0.7651410099124197,\n",
      "         'haemoglobin': 0.0,\n",
      "         'hco3': 0.0,\n",
      "         'hr_max': 0.0,\n",
      "         'hr_min': 0.009528978812385461,\n",
      "         'k': 0.0,\n",
      "         'los': 0.16871217781471806,\n",
      "         'na': 0.0,\n",
      "         'pain': 0.0,\n",
      "         'resp_max': 0.0,\n",
      "         'resp_min': 0.0,\n",
      "         'sex': 0.0,\n",
      "         'spo2_min': 0.0,\n",
      "         'temp_max': 0.0,\n",
      "         'temp_min': 0.0}}\n"
     ]
    },
    {
     "data": {
      "image/png": "[encoded data removed]",
      "text/plain": [
       "<Figure size 576x396 with 2 Axes>"
      ]
     },
     "metadata": {},
     "output_type": "display_data"
    }
   ],
   "source": [
    "# Explain an instance\n",
    "for instance in range(num_samples):\n",
    "    print(f'--- Instance {instance} ---')\n",
    "    tree_explanation = tree.explain_instance(\n",
    "        sample_case.to_numpy()[instance], samples_number=500)\n",
    "\n",
    "    # Display the textual explanation\n",
    "    pprint(tree_explanation)\n",
    "\n",
    "    # Plot the explanation\n",
    "    fatf_vis_lime.plot_lime(tree_explanation)\n"
   ]
  },
  {
   "cell_type": "markdown",
   "metadata": {},
   "source": [
    "# LIME"
   ]
  },
  {
   "cell_type": "code",
   "execution_count": 88,
   "metadata": {},
   "outputs": [],
   "source": [
    "# Create a LIME explainer\n",
    "lime = fatf_surrogates.TabularBlimeyLime(\n",
    "    X_train.to_numpy(),\n",
    "    model,\n",
    "    feature_names=features,\n",
    "    class_names=list(class_names.values()))"
   ]
  },
  {
   "cell_type": "code",
   "execution_count": 89,
   "metadata": {},
   "outputs": [
    {
     "data": {
      "text/plain": [
       "array([-0.56942718, -0.08862862, -0.87992482,  0.48281246, -1.67311802,\n",
       "       -1.66748575, -0.68373439, -0.59708594, -0.86174412, -0.60448357,\n",
       "        0.36586264, -0.23415682, -0.35889024, -0.40677781,  0.09642508,\n",
       "       -0.29448665,  1.00084975,  1.49609809, -0.02350413, -0.50616173,\n",
       "       -0.2685055 , -0.91859914])"
      ]
     },
     "execution_count": 89,
     "metadata": {},
     "output_type": "execute_result"
    }
   ],
   "source": [
    "sample_case.to_numpy()[0]"
   ]
  },
  {
   "cell_type": "code",
   "execution_count": 90,
   "metadata": {},
   "outputs": [
    {
     "ename": "NameError",
     "evalue": "name 'index_to_explain' is not defined",
     "output_type": "error",
     "traceback": [
      "\u001b[0;31m---------------------------------------------------------------------------\u001b[0m",
      "\u001b[0;31mNameError\u001b[0m                                 Traceback (most recent call last)",
      "Input \u001b[0;32mIn [90]\u001b[0m, in \u001b[0;36m<module>\u001b[0;34m\u001b[0m\n\u001b[1;32m      1\u001b[0m \u001b[38;5;66;03m# Explain an instance\u001b[39;00m\n\u001b[1;32m      2\u001b[0m lime_explanation \u001b[38;5;241m=\u001b[39m lime\u001b[38;5;241m.\u001b[39mexplain_instance(\n\u001b[0;32m----> 3\u001b[0m     X_train\u001b[38;5;241m.\u001b[39mto_numpy()[\u001b[43mindex_to_explain\u001b[49m, :], samples_number\u001b[38;5;241m=\u001b[39m\u001b[38;5;241m500\u001b[39m)\n\u001b[1;32m      5\u001b[0m \u001b[38;5;66;03m# Display the textual explanation\u001b[39;00m\n\u001b[1;32m      6\u001b[0m pprint(lime_explanation)\n",
      "\u001b[0;31mNameError\u001b[0m: name 'index_to_explain' is not defined"
     ]
    }
   ],
   "source": [
    "# Explain an instance\n",
    "lime_explanation = lime.explain_instance(\n",
    "    X_train.to_numpy()[index_to_explain, :], samples_number=500)\n",
    "\n",
    "# Display the textual explanation\n",
    "pprint(lime_explanation)\n",
    "\n",
    "# Plot the explanation\n",
    "fatf_vis_lime.plot_lime(lime_explanation)"
   ]
  },
  {
   "cell_type": "markdown",
   "metadata": {},
   "source": [
    "Below shows implementation with FAT Forensics example dataset"
   ]
  },
  {
   "cell_type": "code",
   "execution_count": 91,
   "metadata": {},
   "outputs": [],
   "source": [
    "import fatf.utils.data.datasets as fatf_datasets\n",
    "import fatf.utils.models as fatf_models"
   ]
  },
  {
   "cell_type": "code",
   "execution_count": 92,
   "metadata": {},
   "outputs": [
    {
     "name": "stderr",
     "output_type": "stream",
     "text": [
      "24-Aug-05 12:24:34 fatf.transparency.predictions.surrogate_explainers INFO     Selecting 4 features with forward selection.\n"
     ]
    },
    {
     "name": "stdout",
     "output_type": "stream",
     "text": [
      "{'setosa': {'*petal length (cm)* <= 1.60': 0.9120349861232682,\n",
      "            '*petal width (cm)* <= 0.30': 0.05036417351241962,\n",
      "            '3.30 < *sepal width (cm)*': 0.039179052050646763,\n",
      "            '5.10 < *sepal length (cm)* <= 5.80': -0.020507812104786225},\n",
      " 'versicolor': {'*petal length (cm)* <= 1.60': -0.59817558993236,\n",
      "                '*petal width (cm)* <= 0.30': 0.1113229710225831,\n",
      "                '3.30 < *sepal width (cm)*': 0.039205807892404035,\n",
      "                '5.10 < *sepal length (cm)* <= 5.80': 0.0034886323161647317},\n",
      " 'virginica': {'*petal length (cm)* <= 1.60': -0.31385939619090925,\n",
      "               '*petal width (cm)* <= 0.30': -0.16168714453500213,\n",
      "               '3.30 < *sepal width (cm)*': -0.07838485994305053,\n",
      "               '5.10 < *sepal length (cm)* <= 5.80': 0.017019179788621528}}\n"
     ]
    },
    {
     "data": {
      "image/png": "[encoded data removed]",
      "text/plain": [
       "<Figure size 576x396 with 3 Axes>"
      ]
     },
     "execution_count": 92,
     "metadata": {},
     "output_type": "execute_result"
    },
    {
     "data": {
      "image/png": "[encoded data removed]",
      "text/plain": [
       "<Figure size 576x396 with 3 Axes>"
      ]
     },
     "metadata": {},
     "output_type": "display_data"
    }
   ],
   "source": [
    "# Load data\n",
    "iris_data_dict = fatf_datasets.load_iris()\n",
    "iris_X = iris_data_dict['data']\n",
    "iris_y = iris_data_dict['target']\n",
    "iris_feature_names = iris_data_dict['feature_names'].tolist()\n",
    "iris_class_names = iris_data_dict['target_names'].tolist()\n",
    "\n",
    "# Train a model\n",
    "clf = fatf_models.KNN()\n",
    "clf.fit(iris_X, iris_y)\n",
    "\n",
    "# Create a LIME explainer\n",
    "lime = fatf_surrogates.TabularBlimeyLime(\n",
    "    iris_X,\n",
    "    clf,\n",
    "    feature_names=iris_feature_names,\n",
    "    class_names=iris_class_names)\n",
    "\n",
    "# Choose an index of the instance to be explained\n",
    "index_to_explain = 10\n",
    "\n",
    "# Explain an instance\n",
    "lime_explanation = lime.explain_instance(\n",
    "    iris_X[index_to_explain, :], samples_number=500)\n",
    "\n",
    "# Display the textual explanation\n",
    "pprint(lime_explanation)\n",
    "\n",
    "# Plot the explanation\n",
    "fatf_vis_lime.plot_lime(lime_explanation)"
   ]
  },
  {
   "cell_type": "code",
   "execution_count": null,
   "metadata": {},
   "outputs": [
    {
     "data": {
      "text/plain": [
       "array([5.4, 3.7, 1.5, 0.2], dtype=float32)"
      ]
     },
     "execution_count": 33,
     "metadata": {},
     "output_type": "execute_result"
    }
   ],
   "source": [
    "iris_X[index_to_explain, :]"
   ]
  },
  {
   "cell_type": "markdown",
   "metadata": {},
   "source": [
    "# Partial Dependence"
   ]
  },
  {
   "cell_type": "code",
   "execution_count": 96,
   "metadata": {},
   "outputs": [],
   "source": [
    "import fatf.utils.data.datasets as fatf_datasets\n",
    "import fatf.utils.models as fatf_models\n",
    "\n",
    "\n"
   ]
  },
  {
   "cell_type": "code",
   "execution_count": 12,
   "metadata": {},
   "outputs": [
    {
     "name": "stdout",
     "output_type": "stream",
     "text": [
      "Explaining feature (index: 10): gcs_min.\n"
     ]
    }
   ],
   "source": [
    "# Select a feature to be explained\n",
    "selected_feature_index = 10\n",
    "selected_feature_name = features[selected_feature_index]\n",
    "print('Explaining feature (index: {}): {}.'.format(selected_feature_index,\n",
    "                                                   selected_feature_name))\n",
    "\n",
    "\n",
    "\n"
   ]
  },
  {
   "cell_type": "code",
   "execution_count": 16,
   "metadata": {},
   "outputs": [],
   "source": [
    "# Define the number of samples to be generated (granularity of the explanation)\n",
    "linspace_samples = 25\n",
    "\n",
    "# Calculate Partial Dependence\n",
    "pd_array, pd_linspace = fatf_fi.partial_dependence(\n",
    "    X_train.to_numpy(), model, selected_feature_index, steps_number=linspace_samples)\n",
    "\n"
   ]
  },
  {
   "cell_type": "code",
   "execution_count": 17,
   "metadata": {},
   "outputs": [
    {
     "name": "stdout",
     "output_type": "stream",
     "text": [
      "Explaining class RFD.\n"
     ]
    },
    {
     "data": {
      "image/png": "[encoded data removed]",
      "text/plain": [
       "<Figure size 576x396 with 1 Axes>"
      ]
     },
     "metadata": {},
     "output_type": "display_data"
    }
   ],
   "source": [
    "# Select class for which the explanation will be produced\n",
    "explanation_class = 1\n",
    "explanation_class_name = class_names[explanation_class]\n",
    "print('Explaining class {}.'.format(explanation_class_name))\n",
    "\n",
    "# Plot Partial Dependence on its own\n",
    "pd_plot_clean = fatf_vis_fi.plot_partial_dependence(\n",
    "    pd_array,\n",
    "    pd_linspace,\n",
    "    explanation_class,\n",
    "    class_name=explanation_class_name,\n",
    "    feature_name=selected_feature_name)"
   ]
  },
  {
   "cell_type": "markdown",
   "metadata": {},
   "source": [
    "# Tree interpreter"
   ]
  },
  {
   "cell_type": "code",
   "execution_count": 340,
   "metadata": {},
   "outputs": [],
   "source": [
    "from treeinterpreter import treeinterpreter as ti\n",
    "# fit a scikit-learn's regressor model\n",
    "\n",
    "rf = RandomForestClassifier()\n",
    "rf.fit(X_train, y_train)\n",
    "\n",
    "prediction, bias, contributions = ti.predict(rf, X_test)\n",
    "\n",
    "class_to_predict = 1"
   ]
  },
  {
   "cell_type": "code",
   "execution_count": 341,
   "metadata": {},
   "outputs": [],
   "source": [
    "prediction = prediction[:, class_to_predict]\n",
    "bias = bias[:, class_to_predict]"
   ]
  },
  {
   "cell_type": "code",
   "execution_count": 342,
   "metadata": {},
   "outputs": [
    {
     "name": "stdout",
     "output_type": "stream",
     "text": [
      "Test set AUC performance 0.900\n"
     ]
    }
   ],
   "source": [
    "result = roc_auc_score(\n",
    "    y_test, rf.predict_proba(X_test.to_numpy())[:, 1])\n",
    "print(f'Test set AUC performance {result:.3f}')"
   ]
  },
  {
   "cell_type": "code",
   "execution_count": 343,
   "metadata": {},
   "outputs": [
    {
     "data": {
      "text/plain": [
       "2806"
      ]
     },
     "execution_count": 343,
     "metadata": {},
     "output_type": "execute_result"
    }
   ],
   "source": [
    "len(np.sum(contributions, axis=1))"
   ]
  },
  {
   "cell_type": "code",
   "execution_count": null,
   "metadata": {},
   "outputs": [],
   "source": []
  },
  {
   "cell_type": "code",
   "execution_count": 344,
   "metadata": {},
   "outputs": [
    {
     "ename": "ValueError",
     "evalue": "operands could not be broadcast together with shapes (2806,) (2806,2) ",
     "output_type": "error",
     "traceback": [
      "\u001b[0;31m---------------------------------------------------------------------------\u001b[0m",
      "\u001b[0;31mValueError\u001b[0m                                Traceback (most recent call last)",
      "Input \u001b[0;32mIn [344]\u001b[0m, in \u001b[0;36m<module>\u001b[0;34m\u001b[0m\n\u001b[0;32m----> 1\u001b[0m \u001b[38;5;28;01massert\u001b[39;00m(np\u001b[38;5;241m.\u001b[39mallclose(prediction, \u001b[43mbias\u001b[49m\u001b[43m \u001b[49m\u001b[38;5;241;43m+\u001b[39;49m\u001b[43m \u001b[49m\u001b[43mnp\u001b[49m\u001b[38;5;241;43m.\u001b[39;49m\u001b[43msum\u001b[49m\u001b[43m(\u001b[49m\u001b[43mcontributions\u001b[49m\u001b[43m,\u001b[49m\u001b[43m \u001b[49m\u001b[43maxis\u001b[49m\u001b[38;5;241;43m=\u001b[39;49m\u001b[38;5;241;43m1\u001b[39;49m\u001b[43m)\u001b[49m))\n\u001b[1;32m      2\u001b[0m \u001b[38;5;28;01massert\u001b[39;00m(np\u001b[38;5;241m.\u001b[39mallclose(rf\u001b[38;5;241m.\u001b[39mpredict(X_test), bias \u001b[38;5;241m+\u001b[39m np\u001b[38;5;241m.\u001b[39msum(contributions, axis\u001b[38;5;241m=\u001b[39m\u001b[38;5;241m1\u001b[39m)))\n",
      "\u001b[0;31mValueError\u001b[0m: operands could not be broadcast together with shapes (2806,) (2806,2) "
     ]
    }
   ],
   "source": [
    "assert(np.allclose(prediction, bias + np.sum(contributions, axis=1)))\n",
    "assert(np.allclose(rf.predict(X_test), bias + np.sum(contributions, axis=1)))"
   ]
  },
  {
   "cell_type": "code",
   "execution_count": 345,
   "metadata": {},
   "outputs": [
    {
     "data": {
      "text/html": [
       "<style>#sk-container-id-6 {color: black;background-color: white;}#sk-container-id-6 pre{padding: 0;}#sk-container-id-6 div.sk-toggleable {background-color: white;}#sk-container-id-6 label.sk-toggleable__label {cursor: pointer;display: block;width: 100%;margin-bottom: 0;padding: 0.3em;box-sizing: border-box;text-align: center;}#sk-container-id-6 label.sk-toggleable__label-arrow:before {content: \"▸\";float: left;margin-right: 0.25em;color: #696969;}#sk-container-id-6 label.sk-toggleable__label-arrow:hover:before {color: black;}#sk-container-id-6 div.sk-estimator:hover label.sk-toggleable__label-arrow:before {color: black;}#sk-container-id-6 div.sk-toggleable__content {max-height: 0;max-width: 0;overflow: hidden;text-align: left;background-color: #f0f8ff;}#sk-container-id-6 div.sk-toggleable__content pre {margin: 0.2em;color: black;border-radius: 0.25em;background-color: #f0f8ff;}#sk-container-id-6 input.sk-toggleable__control:checked~div.sk-toggleable__content {max-height: 200px;max-width: 100%;overflow: auto;}#sk-container-id-6 input.sk-toggleable__control:checked~label.sk-toggleable__label-arrow:before {content: \"▾\";}#sk-container-id-6 div.sk-estimator input.sk-toggleable__control:checked~label.sk-toggleable__label {background-color: #d4ebff;}#sk-container-id-6 div.sk-label input.sk-toggleable__control:checked~label.sk-toggleable__label {background-color: #d4ebff;}#sk-container-id-6 input.sk-hidden--visually {border: 0;clip: rect(1px 1px 1px 1px);clip: rect(1px, 1px, 1px, 1px);height: 1px;margin: -1px;overflow: hidden;padding: 0;position: absolute;width: 1px;}#sk-container-id-6 div.sk-estimator {font-family: monospace;background-color: #f0f8ff;border: 1px dotted black;border-radius: 0.25em;box-sizing: border-box;margin-bottom: 0.5em;}#sk-container-id-6 div.sk-estimator:hover {background-color: #d4ebff;}#sk-container-id-6 div.sk-parallel-item::after {content: \"\";width: 100%;border-bottom: 1px solid gray;flex-grow: 1;}#sk-container-id-6 div.sk-label:hover label.sk-toggleable__label {background-color: #d4ebff;}#sk-container-id-6 div.sk-serial::before {content: \"\";position: absolute;border-left: 1px solid gray;box-sizing: border-box;top: 0;bottom: 0;left: 50%;z-index: 0;}#sk-container-id-6 div.sk-serial {display: flex;flex-direction: column;align-items: center;background-color: white;padding-right: 0.2em;padding-left: 0.2em;position: relative;}#sk-container-id-6 div.sk-item {position: relative;z-index: 1;}#sk-container-id-6 div.sk-parallel {display: flex;align-items: stretch;justify-content: center;background-color: white;position: relative;}#sk-container-id-6 div.sk-item::before, #sk-container-id-6 div.sk-parallel-item::before {content: \"\";position: absolute;border-left: 1px solid gray;box-sizing: border-box;top: 0;bottom: 0;left: 50%;z-index: -1;}#sk-container-id-6 div.sk-parallel-item {display: flex;flex-direction: column;z-index: 1;position: relative;background-color: white;}#sk-container-id-6 div.sk-parallel-item:first-child::after {align-self: flex-end;width: 50%;}#sk-container-id-6 div.sk-parallel-item:last-child::after {align-self: flex-start;width: 50%;}#sk-container-id-6 div.sk-parallel-item:only-child::after {width: 0;}#sk-container-id-6 div.sk-dashed-wrapped {border: 1px dashed gray;margin: 0 0.4em 0.5em 0.4em;box-sizing: border-box;padding-bottom: 0.4em;background-color: white;}#sk-container-id-6 div.sk-label label {font-family: monospace;font-weight: bold;display: inline-block;line-height: 1.2em;}#sk-container-id-6 div.sk-label-container {text-align: center;}#sk-container-id-6 div.sk-container {/* jupyter's `normalize.less` sets `[hidden] { display: none; }` but bootstrap.min.css set `[hidden] { display: none !important; }` so we also need the `!important` here to be able to override the default hidden behavior on the sphinx rendered scikit-learn.org. See: https://github.com/scikit-learn/scikit-learn/issues/21755 */display: inline-block !important;position: relative;}#sk-container-id-6 div.sk-text-repr-fallback {display: none;}</style><div id=\"sk-container-id-6\" class=\"sk-top-container\"><div class=\"sk-text-repr-fallback\"><pre>RandomForestRegressor()</pre><b>In a Jupyter environment, please rerun this cell to show the HTML representation or trust the notebook. <br />On GitHub, the HTML representation is unable to render, please try loading this page with nbviewer.org.</b></div><div class=\"sk-container\" hidden><div class=\"sk-item\"><div class=\"sk-estimator sk-toggleable\"><input class=\"sk-toggleable__control sk-hidden--visually\" id=\"sk-estimator-id-6\" type=\"checkbox\" checked><label for=\"sk-estimator-id-6\" class=\"sk-toggleable__label sk-toggleable__label-arrow\">RandomForestRegressor</label><div class=\"sk-toggleable__content\"><pre>RandomForestRegressor()</pre></div></div></div></div></div>"
      ],
      "text/plain": [
       "RandomForestRegressor()"
      ]
     },
     "execution_count": 345,
     "metadata": {},
     "output_type": "execute_result"
    }
   ],
   "source": [
    "from treeinterpreter import treeinterpreter as ti\n",
    "from sklearn.tree import DecisionTreeRegressor\n",
    "from sklearn.ensemble import RandomForestRegressor, RandomForestClassifier\n",
    "import numpy as np\n",
    " \n",
    "from sklearn.datasets import load_boston\n",
    "boston = load_boston()\n",
    "rf = RandomForestRegressor()\n",
    "rf.fit(boston.data[:300], boston.target[:300])"
   ]
  },
  {
   "cell_type": "code",
   "execution_count": 346,
   "metadata": {},
   "outputs": [
    {
     "name": "stdout",
     "output_type": "stream",
     "text": [
      "Instance 0 prediction: [29.974]\n",
      "Instance 1 prediction: [22.864]\n"
     ]
    }
   ],
   "source": [
    "instances = boston.data[[300, 309]]\n",
    "\n",
    "instances[0]\n",
    "print (\"Instance 0 prediction:\", rf.predict(instances[0].reshape(1, -1)))\n",
    "print (\"Instance 1 prediction:\", rf.predict(instances[1].reshape(1, -1)))"
   ]
  },
  {
   "cell_type": "code",
   "execution_count": 349,
   "metadata": {},
   "outputs": [
    {
     "data": {
      "text/plain": [
       "array([4.4170e-02, 7.0000e+01, 2.2400e+00, 0.0000e+00, 4.0000e-01,\n",
       "       6.8710e+00, 4.7400e+01, 7.8278e+00, 5.0000e+00, 3.5800e+02,\n",
       "       1.4800e+01, 3.9086e+02, 6.0700e+00])"
      ]
     },
     "execution_count": 349,
     "metadata": {},
     "output_type": "execute_result"
    }
   ],
   "source": [
    "instances[0]"
   ]
  },
  {
   "cell_type": "code",
   "execution_count": 350,
   "metadata": {},
   "outputs": [],
   "source": [
    "prediction, bias, contributions = ti.predict(rf, instances)"
   ]
  },
  {
   "cell_type": "code",
   "execution_count": 351,
   "metadata": {},
   "outputs": [
    {
     "data": {
      "text/plain": [
       "array([[29.974],\n",
       "       [22.864]])"
      ]
     },
     "execution_count": 351,
     "metadata": {},
     "output_type": "execute_result"
    }
   ],
   "source": [
    "prediction"
   ]
  },
  {
   "cell_type": "code",
   "execution_count": 352,
   "metadata": {},
   "outputs": [
    {
     "data": {
      "text/plain": [
       "array([25.44531333, 25.44531333])"
      ]
     },
     "execution_count": 352,
     "metadata": {},
     "output_type": "execute_result"
    }
   ],
   "source": [
    "bias"
   ]
  },
  {
   "cell_type": "code",
   "execution_count": 353,
   "metadata": {},
   "outputs": [
    {
     "data": {
      "text/plain": [
       "array([[-1.16448233e-01,  7.21740589e-02,  2.10581422e-01,\n",
       "        -9.05311355e-03, -1.69932306e-02,  3.63647029e+00,\n",
       "        -8.90085247e-03, -3.18879440e-01,  1.26702226e-01,\n",
       "        -4.02599668e-01,  3.49186220e-01, -2.13382481e-01,\n",
       "         1.21982947e+00],\n",
       "       [ 4.54166770e-01,  7.51079494e-03,  1.67661895e-02,\n",
       "        -2.38713148e-02,  8.76773776e-02, -5.29794249e+00,\n",
       "        -2.29537566e-01,  3.73059692e-02,  1.55643719e-03,\n",
       "        -9.38570670e-02,  1.01796034e-01, -8.95050779e-02,\n",
       "         2.44662061e+00]])"
      ]
     },
     "execution_count": 353,
     "metadata": {},
     "output_type": "execute_result"
    }
   ],
   "source": [
    "contributions"
   ]
  },
  {
   "cell_type": "markdown",
   "metadata": {},
   "source": [
    "# Presenting tailored explainations"
   ]
  },
  {
   "cell_type": "code",
   "execution_count": 95,
   "metadata": {},
   "outputs": [],
   "source": [
    "explainers = ['cfe', #counterfactual explanations\n",
    "              'shap',\n",
    "              'lime']\n",
    "\n",
    "user_types = ['domain expert',\n",
    "        'user',\n",
    "        'public']\n",
    "\n",
    "user = 'domain_expert'"
   ]
  },
  {
   "cell_type": "code",
   "execution_count": 94,
   "metadata": {},
   "outputs": [],
   "source": [
    "if user == 'domain expert':\n",
    "    print('Working')"
   ]
  },
  {
   "cell_type": "markdown",
   "metadata": {},
   "source": [
    "# Uncertainty - potential work in progress"
   ]
  },
  {
   "cell_type": "code",
   "execution_count": 71,
   "metadata": {},
   "outputs": [
    {
     "data": {
      "text/html": [
       "<style>#sk-container-id-3 {color: black;background-color: white;}#sk-container-id-3 pre{padding: 0;}#sk-container-id-3 div.sk-toggleable {background-color: white;}#sk-container-id-3 label.sk-toggleable__label {cursor: pointer;display: block;width: 100%;margin-bottom: 0;padding: 0.3em;box-sizing: border-box;text-align: center;}#sk-container-id-3 label.sk-toggleable__label-arrow:before {content: \"▸\";float: left;margin-right: 0.25em;color: #696969;}#sk-container-id-3 label.sk-toggleable__label-arrow:hover:before {color: black;}#sk-container-id-3 div.sk-estimator:hover label.sk-toggleable__label-arrow:before {color: black;}#sk-container-id-3 div.sk-toggleable__content {max-height: 0;max-width: 0;overflow: hidden;text-align: left;background-color: #f0f8ff;}#sk-container-id-3 div.sk-toggleable__content pre {margin: 0.2em;color: black;border-radius: 0.25em;background-color: #f0f8ff;}#sk-container-id-3 input.sk-toggleable__control:checked~div.sk-toggleable__content {max-height: 200px;max-width: 100%;overflow: auto;}#sk-container-id-3 input.sk-toggleable__control:checked~label.sk-toggleable__label-arrow:before {content: \"▾\";}#sk-container-id-3 div.sk-estimator input.sk-toggleable__control:checked~label.sk-toggleable__label {background-color: #d4ebff;}#sk-container-id-3 div.sk-label input.sk-toggleable__control:checked~label.sk-toggleable__label {background-color: #d4ebff;}#sk-container-id-3 input.sk-hidden--visually {border: 0;clip: rect(1px 1px 1px 1px);clip: rect(1px, 1px, 1px, 1px);height: 1px;margin: -1px;overflow: hidden;padding: 0;position: absolute;width: 1px;}#sk-container-id-3 div.sk-estimator {font-family: monospace;background-color: #f0f8ff;border: 1px dotted black;border-radius: 0.25em;box-sizing: border-box;margin-bottom: 0.5em;}#sk-container-id-3 div.sk-estimator:hover {background-color: #d4ebff;}#sk-container-id-3 div.sk-parallel-item::after {content: \"\";width: 100%;border-bottom: 1px solid gray;flex-grow: 1;}#sk-container-id-3 div.sk-label:hover label.sk-toggleable__label {background-color: #d4ebff;}#sk-container-id-3 div.sk-serial::before {content: \"\";position: absolute;border-left: 1px solid gray;box-sizing: border-box;top: 0;bottom: 0;left: 50%;z-index: 0;}#sk-container-id-3 div.sk-serial {display: flex;flex-direction: column;align-items: center;background-color: white;padding-right: 0.2em;padding-left: 0.2em;position: relative;}#sk-container-id-3 div.sk-item {position: relative;z-index: 1;}#sk-container-id-3 div.sk-parallel {display: flex;align-items: stretch;justify-content: center;background-color: white;position: relative;}#sk-container-id-3 div.sk-item::before, #sk-container-id-3 div.sk-parallel-item::before {content: \"\";position: absolute;border-left: 1px solid gray;box-sizing: border-box;top: 0;bottom: 0;left: 50%;z-index: -1;}#sk-container-id-3 div.sk-parallel-item {display: flex;flex-direction: column;z-index: 1;position: relative;background-color: white;}#sk-container-id-3 div.sk-parallel-item:first-child::after {align-self: flex-end;width: 50%;}#sk-container-id-3 div.sk-parallel-item:last-child::after {align-self: flex-start;width: 50%;}#sk-container-id-3 div.sk-parallel-item:only-child::after {width: 0;}#sk-container-id-3 div.sk-dashed-wrapped {border: 1px dashed gray;margin: 0 0.4em 0.5em 0.4em;box-sizing: border-box;padding-bottom: 0.4em;background-color: white;}#sk-container-id-3 div.sk-label label {font-family: monospace;font-weight: bold;display: inline-block;line-height: 1.2em;}#sk-container-id-3 div.sk-label-container {text-align: center;}#sk-container-id-3 div.sk-container {/* jupyter's `normalize.less` sets `[hidden] { display: none; }` but bootstrap.min.css set `[hidden] { display: none !important; }` so we also need the `!important` here to be able to override the default hidden behavior on the sphinx rendered scikit-learn.org. See: https://github.com/scikit-learn/scikit-learn/issues/21755 */display: inline-block !important;position: relative;}#sk-container-id-3 div.sk-text-repr-fallback {display: none;}</style><div id=\"sk-container-id-3\" class=\"sk-top-container\"><div class=\"sk-text-repr-fallback\"><pre>RandomForestClassifier(random_state=113)</pre><b>In a Jupyter environment, please rerun this cell to show the HTML representation or trust the notebook. <br />On GitHub, the HTML representation is unable to render, please try loading this page with nbviewer.org.</b></div><div class=\"sk-container\" hidden><div class=\"sk-item\"><div class=\"sk-estimator sk-toggleable\"><input class=\"sk-toggleable__control sk-hidden--visually\" id=\"sk-estimator-id-3\" type=\"checkbox\" checked><label for=\"sk-estimator-id-3\" class=\"sk-toggleable__label sk-toggleable__label-arrow\">RandomForestClassifier</label><div class=\"sk-toggleable__content\"><pre>RandomForestClassifier(random_state=113)</pre></div></div></div></div></div>"
      ],
      "text/plain": [
       "RandomForestClassifier(random_state=113)"
      ]
     },
     "execution_count": 71,
     "metadata": {},
     "output_type": "execute_result"
    }
   ],
   "source": [
    "rf_1 = RandomForestClassifier(random_state=7)\n",
    "rf_1.fit(X_train, y_train)\n",
    "rf_2 = RandomForestClassifier(random_state=39)\n",
    "rf_2.fit(X_train, y_train)\n",
    "rf_3 = RandomForestClassifier(random_state=42)\n",
    "rf_3.fit(X_train, y_train)\n",
    "rf_4 = RandomForestClassifier(random_state=97)\n",
    "rf_4.fit(X_train, y_train)\n",
    "rf_5 = RandomForestClassifier(random_state=113)\n",
    "rf_5.fit(X_train, y_train)"
   ]
  },
  {
   "cell_type": "code",
   "execution_count": 52,
   "metadata": {},
   "outputs": [
    {
     "data": {
      "text/plain": [
       "([0.5760000000000001, 0.428], [0.05276362383309167, 0.04166533331199932])"
      ]
     },
     "execution_count": 52,
     "metadata": {},
     "output_type": "execute_result"
    }
   ],
   "source": [
    "sample_uncertainty(sample_case)"
   ]
  },
  {
   "cell_type": "code",
   "execution_count": 49,
   "metadata": {},
   "outputs": [
    {
     "ename": "TypeError",
     "evalue": "'function' object is not subscriptable",
     "output_type": "error",
     "traceback": [
      "\u001b[0;31m---------------------------------------------------------------------------\u001b[0m",
      "\u001b[0;31mTypeError\u001b[0m                                 Traceback (most recent call last)",
      "Input \u001b[0;32mIn [49]\u001b[0m, in \u001b[0;36m<module>\u001b[0;34m\u001b[0m\n\u001b[1;32m      1\u001b[0m \u001b[38;5;66;03m#Print output\u001b[39;00m\n\u001b[1;32m      2\u001b[0m \u001b[38;5;28;01mfor\u001b[39;00m case \u001b[38;5;129;01min\u001b[39;00m \u001b[38;5;28mrange\u001b[39m(num_samples):\n\u001b[0;32m----> 3\u001b[0m     \u001b[38;5;28mprint\u001b[39m(\u001b[38;5;124mf\u001b[39m\u001b[38;5;124m'\u001b[39m\u001b[38;5;124mFor patient \u001b[39m\u001b[38;5;132;01m{\u001b[39;00mcase\u001b[38;5;132;01m}\u001b[39;00m\u001b[38;5;124m the model predicts \u001b[39m\u001b[38;5;132;01m{\u001b[39;00mclass_names[model\u001b[38;5;241m.\u001b[39mpredict(sample_case)[case]]\u001b[38;5;132;01m}\u001b[39;00m\u001b[38;5;124m with probability \u001b[39m\u001b[38;5;132;01m{\u001b[39;00mmodel\u001b[38;5;241m.\u001b[39mpredict_proba(sample_case\u001b[38;5;241m.\u001b[39mto_numpy())[case, \u001b[38;5;241m1\u001b[39m]\u001b[38;5;132;01m:\u001b[39;00m\u001b[38;5;124m.2f\u001b[39m\u001b[38;5;132;01m}\u001b[39;00m\u001b[38;5;124m, mean \u001b[39m\u001b[38;5;132;01m{\u001b[39;00msample_uncertainty[\u001b[38;5;241m0\u001b[39m][case]\u001b[38;5;132;01m:\u001b[39;00m\u001b[38;5;124m.2f\u001b[39m\u001b[38;5;132;01m}\u001b[39;00m\u001b[38;5;124m +/- \u001b[39m\u001b[38;5;132;01m{\u001b[39;00msample_uncertainty[\u001b[38;5;241m1\u001b[39m][case]\u001b[38;5;132;01m:\u001b[39;00m\u001b[38;5;124m.2f\u001b[39m\u001b[38;5;132;01m}\u001b[39;00m\u001b[38;5;124m'\u001b[39m)\n",
      "\u001b[0;31mTypeError\u001b[0m: 'function' object is not subscriptable"
     ]
    }
   ],
   "source": [
    "#Print output\n",
    "for case in range(num_samples):\n",
    "    print(f'For patient {case} the model predicts {class_names[model.predict(sample_case)[case]]} with probability {model.predict_proba(sample_case.to_numpy())[case, 1]:.2f}, mean {sample_uncertainty[0][case]:.2f} +/- {sample_uncertainty[1][case]:.2f}')"
   ]
  }
 ],
 "metadata": {
  "kernelspec": {
   "display_name": "llm_explanations",
   "language": "python",
   "name": "python3"
  },
  "language_info": {
   "codemirror_mode": {
    "name": "ipython",
    "version": 3
   },
   "file_extension": ".py",
   "mimetype": "text/x-python",
   "name": "python",
   "nbconvert_exporter": "python",
   "pygments_lexer": "ipython3",
   "version": "3.9.7"
  }
 },
 "nbformat": 4,
 "nbformat_minor": 2
}
